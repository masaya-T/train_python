{
 "cells": [
  {
   "cell_type": "markdown",
   "source": [
    "# Import"
   ],
   "metadata": {}
  },
  {
   "cell_type": "code",
   "execution_count": 75,
   "source": [
    "import numpy as np\n"
   ],
   "outputs": [],
   "metadata": {}
  },
  {
   "cell_type": "markdown",
   "source": [
    "# 今後のための修正"
   ],
   "metadata": {}
  },
  {
   "cell_type": "markdown",
   "source": [
    "## 逆伝播の処理\n",
    "<img src=\"../images/関数と変数の関係性.png\" width=\"400\"> <br>\n",
    "再帰を使った実装からルーを使った実装に書き換える\n"
   ],
   "metadata": {}
  },
  {
   "cell_type": "code",
   "execution_count": 76,
   "source": [
    "\n",
    "# DeZeroで使用する変数クラス\n",
    "class Variable:\n",
    "    def __init__(self, data):\n",
    "        # dataがndarray以外だったらエラーが出るようにする\n",
    "        if data is not None:\n",
    "            if not isinstance(data,np.ndarray):\n",
    "                raise TypeError('{} is not suppported'.format(type(data)))\n",
    "        self.data = data  #　通常の値\n",
    "        self.grad=None    #　dataに対応した微分値\n",
    "        self.creator=None #このクラスの変数が生成される関数　例：y=f(x)のとき　yにとってfがcreator\n",
    "\n",
    "    # creatorのsetter\n",
    "    def set_creator(self,func):\n",
    "        self.creator=func\n",
    "\n",
    "    # 逆伝播を行う関数(ループを使った実装)\n",
    "    def backward(self):\n",
    "        # gradがNoneの場合、自動で微分を生成する\n",
    "        # ones_like：既存の配列と同じシェイプで，すべての要素の値が 1 の配列を生成\n",
    "        if self.grad is None:\n",
    "            self.grad=np.ones_like(self.data)\n",
    "\n",
    "        funcs=[self.creator]\n",
    "        while funcs:\n",
    "            f=funcs.pop() # 関数を取得\n",
    "            x,y=f.input,f.output # 関数の入出力を取得\n",
    "            x.grad=f.backward(y.grad) # backwardメソッドを呼ぶ\n",
    "\n",
    "            if x.creator is not None:\n",
    "                funcs.append(x.creator) # 1つ目の関数をリストに追加\n",
    "\n",
    "# Variableクラスを処理する関数を定義するクラス\n",
    "# このクラスを基底クラスとして、共通する機能を実現\n",
    "class Function:\n",
    "    def __call__(self, input):\n",
    "        x = input.data  #　データを取り出す\n",
    "        y = self.forward(x) #　実際の計算\n",
    "        output = Variable(as_array(y)) # Variableとして返す\n",
    "        output.set_creator(self) # 出力変数に生みの親を覚えさせる\n",
    "        self.input=input #　入力された変数を覚える\n",
    "        self.output=output #　出力も覚えさせる\n",
    "        return output\n",
    "    #順伝播を行う機能\n",
    "    def forward(self,x):\n",
    "        raise NotImplementedError() #意図的に例外を発生させる\n",
    "    # 微分の罫線を行う逆伝播の機能\n",
    "    def backward(self,gy):\n",
    "        raise NotImplementedError()\n"
   ],
   "outputs": [],
   "metadata": {}
  },
  {
   "cell_type": "markdown",
   "source": [
    "## 関数"
   ],
   "metadata": {}
  },
  {
   "cell_type": "code",
   "execution_count": 77,
   "source": [
    "#function classを継承して利便性向上\n",
    "class Square(Function):\n",
    "    def forward(self, x):\n",
    "        return x**2\n",
    "    #y=x^2の微分を計算dy/dx=2x\n",
    "    def backward(self,gy):\n",
    "        x=self.input.data\n",
    "        gx=2*x*gy\n",
    "        return gx\n",
    "\n",
    "class Exp(Function):\n",
    "    def forward(self, x):\n",
    "        y=np.exp(x)\n",
    "        return y\n",
    "    def backward(self,gy):\n",
    "        x=self.input.data\n",
    "        gx=np.exp(x)*gy\n",
    "        return gx\n",
    "def square(x):\n",
    "    f=Square()\n",
    "    return f(x)\n",
    "def exp(x):\n",
    "    f=Exp()\n",
    "    return f(x)\n",
    "def as_array(x):\n",
    "    if np.isscalar(x):\n",
    "        return np.array(x)\n",
    "    return x"
   ],
   "outputs": [],
   "metadata": {}
  },
  {
   "cell_type": "markdown",
   "source": [
    "# 動作確認"
   ],
   "metadata": {}
  },
  {
   "cell_type": "code",
   "execution_count": 78,
   "source": [
    "#　順伝播\n",
    "x=Variable(np.array(0.5))\n",
    "\n",
    "a=square(x)\n",
    "print(a)\n",
    "b=exp(a)\n",
    "y=square(b)\n",
    "# このようにも書ける\n",
    "# y=square(exp(square(x)))\n",
    "print(y.data)\n",
    "# 逆伝播（再起的に行わない場合）\n",
    "y.grad=np.array(1.0)\n",
    "C=y.creator # 1. 関数を取得\n",
    "b=C.input   # 2. 関数の入力を取得\n",
    "b.grad=C.backward(y.grad) # 3. 関数のbackwardメソッドを呼ぶ\n",
    "B=b.creator # 1. 関数を取得\n",
    "a=B.input   # 2. 関数の入力を取得\n",
    "a.grad=B.backward(b.grad) # 3. 関数のbackwardメソッドを呼ぶ\n",
    "A=a.creator # 1. 関数を取得\n",
    "x=A.input   # 2. 関数の入力を取得\n",
    "x.grad=A.backward(a.grad) # 3. 関数のbackwardメソッドを呼ぶ\n",
    "print(x.grad)\n",
    "# 逆伝播（再起的に行う場合）\n",
    "y.grad=np.array(1.0)\n",
    "y.backward()\n",
    "print(x.grad)"
   ],
   "outputs": [
    {
     "output_type": "stream",
     "name": "stdout",
     "text": [
      "<__main__.Variable object at 0x7ff7d8f19668>\n",
      "1.648721270700128\n",
      "3.297442541400256\n",
      "3.297442541400256\n"
     ]
    }
   ],
   "metadata": {}
  }
 ],
 "metadata": {
  "orig_nbformat": 4,
  "language_info": {
   "name": "python",
   "version": "3.7.2",
   "mimetype": "text/x-python",
   "codemirror_mode": {
    "name": "ipython",
    "version": 3
   },
   "pygments_lexer": "ipython3",
   "nbconvert_exporter": "python",
   "file_extension": ".py"
  },
  "kernelspec": {
   "name": "python3",
   "display_name": "Python 3.7.2 64-bit"
  },
  "interpreter": {
   "hash": "aee8b7b246df8f9039afb4144a1f6fd8d2ca17a180786b69acc140d282b71a49"
  }
 },
 "nbformat": 4,
 "nbformat_minor": 2
}