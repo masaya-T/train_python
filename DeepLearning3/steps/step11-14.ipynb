{
 "cells": [
  {
   "cell_type": "markdown",
   "source": [
    "# Import"
   ],
   "metadata": {}
  },
  {
   "cell_type": "code",
   "execution_count": 90,
   "source": [
    "import numpy as np"
   ],
   "outputs": [],
   "metadata": {}
  },
  {
   "cell_type": "markdown",
   "source": [
    "# step11:可変調の引数（順伝播）\n",
    "# step13:可変調の引数（逆伝播）\n",
    "\n",
    "\n",
    "複数の入出力に対応できるようにリストを追加する<br>\n",
    "<img src=\"../images/足し算の計算グラフ.png\" width=\"400\"> <br>\n",
    "# step14:同じ変数を￥繰り返し使用する\n",
    "勾配計算で代入していたのを加算するように修正する<br>\n",
    "<img src=\"../images/add(x0,x0).png\" width=\"400\"> <br>"
   ],
   "metadata": {}
  },
  {
   "cell_type": "code",
   "execution_count": 91,
   "source": [
    "# DeZeroで使用する変数クラス\n",
    "class Variable:\n",
    "    def __init__(self, data):\n",
    "        # dataがndarray以外だったらエラーが出るようにする\n",
    "        if data is not None:\n",
    "            if not isinstance(data,np.ndarray):\n",
    "                raise TypeError('{} is not suppported'.format(type(data)))\n",
    "        self.data = data  #　通常の値\n",
    "        self.grad=None    #　dataに対応した微分値\n",
    "        self.creator=None #このクラスの変数が生成される関数　例：y=f(x)のとき　yにとってfがcreator\n",
    "\n",
    "    # creatorのsetter\n",
    "    def set_creator(self,func):\n",
    "        self.creator=func\n",
    "\n",
    "    # 逆伝播を行う関数(ループを使った実装)\n",
    "    def backward(self):\n",
    "        # gradがNoneの場合、自動で微分を生成する\n",
    "        # ones_like：既存の配列と同じシェイプで，すべての要素の値が 1 の配列を生成\n",
    "        if self.grad is None:\n",
    "            self.grad=np.ones_like(self.data)\n",
    "\n",
    "        funcs=[self.creator]\n",
    "        while funcs:\n",
    "            f=funcs.pop() # 関数を取得\n",
    "            gys=[output.grad for output in f.outputs] # 出力変数がタプルで保存されているのでリストにまとめる\n",
    "            gxs=f.backward(*gys) # リストを展開して関数fの逆伝播を呼び出す\n",
    "            if not isinstance(gxs,tuple):\n",
    "                gxs=(gxs,)\n",
    "            # 伝播する微分値をVariableのインスタンス変数gradに設定する\n",
    "            # zip()は複数のイテラブルオブジェクト（リストやタプルなど）の要素をまとめる関数\n",
    "            for x,gx in zip(f.inputs, gxs):\n",
    "                if x.grad is None:\n",
    "                    x.grad=gx\n",
    "                else:\n",
    "                    x.grad+=gx\n",
    "                # 関数fの入力のうち別の関数から生成された変数があれば微分値を計算する必要があるのでstackに追加する\n",
    "                # backpropは深さ優先\n",
    "                if x.creator is not None:\n",
    "                    funcs.append(x.creator) # 1つ目の関数をリストに追加\n",
    "    # 微分をリセットする\n",
    "    def cleargrad(self):\n",
    "        self.grad=None\n",
    "\n",
    "# Variableクラスを処理する関数を定義するクラス\n",
    "# このクラスを基底クラスとして、共通する機能を実現\n",
    "class Function:\n",
    "    # *を変数につけることで可変長引数にする\n",
    "    def __call__(self, *inputs):\n",
    "        xs = [x.data for x in inputs]  #　データを取り出す\n",
    "        ys = self.forward(*xs) #　実際の計算\n",
    "        # 複数の値の入力に対応\n",
    "        if not isinstance(ys,tuple):\n",
    "            ys=(ys,)\n",
    "        outputs = [Variable(as_array(y)) for y in ys]# Variableとして返す\n",
    "\n",
    "        for output in outputs:\n",
    "            output.set_creator(self) # 出力変数に生みの親を覚えさせる\n",
    "        self.inputs=inputs #　入力された変数を覚える\n",
    "        self.outputs=outputs #　出力も覚えさせる\n",
    "\n",
    "        #リストの要素が1つの時は最初の要素を返す\n",
    "        return outputs if len(outputs) > 1 else outputs[0]\n",
    "\n",
    "    #順伝播を行う機能\n",
    "    def forward(self,x):\n",
    "        raise NotImplementedError() #意図的に例外を発生させる\n",
    "    # 微分の罫線を行う逆伝播の機能\n",
    "    def backward(self,gy):\n",
    "        raise NotImplementedError()\n",
    "\n",
    "# 足し算を行うクラス\n",
    "class Add(Function):\n",
    "    def forward(self, x0,x1):\n",
    "        y=x0+x1\n",
    "        return y\n",
    "    def backward(self, gy):\n",
    "        return gy,gy\n"
   ],
   "outputs": [],
   "metadata": {}
  },
  {
   "cell_type": "code",
   "execution_count": 92,
   "source": [
    "#function classを継承して利便性向上\n",
    "class Square(Function):\n",
    "    def forward(self, x):\n",
    "        return x**2\n",
    "    #y=x^2の微分を計算dy/dx=2x\n",
    "    def backward(self,gy):\n",
    "        x=self.inputs[0].data\n",
    "        gx=2 * x * gy\n",
    "        return gx\n",
    "\n",
    "class Exp(Function):\n",
    "    def forward(self, x):\n",
    "        y=np.exp(x)\n",
    "        return y\n",
    "    def backward(self,gy):\n",
    "        x=self.input.data\n",
    "        gx=np.exp(x)*gy\n",
    "        return gx\n",
    "def square(x):\n",
    "    f=Square()\n",
    "    return f(x)\n",
    "def exp(x):\n",
    "    f=Exp()\n",
    "    return f(x)\n",
    "def add(x0,x1):\n",
    "    return Add()(x0,x1)\n",
    "def as_array(x):\n",
    "    if np.isscalar(x):\n",
    "        return np.array(x)\n",
    "    return x"
   ],
   "outputs": [],
   "metadata": {}
  },
  {
   "cell_type": "code",
   "execution_count": 93,
   "source": [
    "x=Variable(np.array(3.0))\n",
    "y=Variable(np.array(3.0))\n",
    "\n",
    "# 1回目の計算\n",
    "z=add(x,x)\n",
    "z.backward()\n",
    "print(x.grad)\n",
    "\n",
    "# ２回目の計算\n",
    "z=add(x,x)\n",
    "z.backward()\n",
    "print(x.grad)\n",
    "\n",
    "# ２回目の計算（同じ変数で別の計算をする）\n",
    "x.cleargrad()\n",
    "z=add(x,x)\n",
    "z.backward()\n",
    "print(x.grad)"
   ],
   "outputs": [
    {
     "output_type": "stream",
     "name": "stdout",
     "text": [
      "2.0\n",
      "4.0\n",
      "2.0\n"
     ]
    }
   ],
   "metadata": {}
  }
 ],
 "metadata": {
  "orig_nbformat": 4,
  "language_info": {
   "name": "python",
   "version": "3.7.2",
   "mimetype": "text/x-python",
   "codemirror_mode": {
    "name": "ipython",
    "version": 3
   },
   "pygments_lexer": "ipython3",
   "nbconvert_exporter": "python",
   "file_extension": ".py"
  },
  "kernelspec": {
   "name": "python3",
   "display_name": "Python 3.7.2 64-bit"
  },
  "interpreter": {
   "hash": "aee8b7b246df8f9039afb4144a1f6fd8d2ca17a180786b69acc140d282b71a49"
  }
 },
 "nbformat": 4,
 "nbformat_minor": 2
}