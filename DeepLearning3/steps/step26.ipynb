{
 "cells": [
  {
   "cell_type": "code",
   "execution_count": 13,
   "source": [
    "# step26 計算グラフの可視化"
   ],
   "outputs": [],
   "metadata": {}
  },
  {
   "cell_type": "code",
   "execution_count": 14,
   "source": [
    "import numpy as np\n",
    "import sys\n",
    "sys.path.append('../')\n",
    "from dezero import Variable\n",
    "import os\n",
    "import subprocess\n",
    "if '__file__' in globals():\n",
    "    import os, sys\n",
    "    sys.path.append(os.path.join(os.path.dirname(__file__), '..'))\n",
    "import numpy as np\n",
    "from dezero import Variable\n",
    "from dezero.utils import plot_dot_graph\n"
   ],
   "outputs": [],
   "metadata": {}
  },
  {
   "cell_type": "markdown",
   "source": [
    "## 可視化コード"
   ],
   "metadata": {}
  },
  {
   "cell_type": "code",
   "execution_count": 15,
   "source": [
    "# VariavleクラスをDOT言語に変換する関数\n",
    "# verboseはTrueの時,ndarrayインスタンスの「形状」と「型」も合わせてラベルとして出力する\n",
    "def _dot_var(v, verbose=False):\n",
    "    dot_var='{} [label=\"{}\", color =orange, style=filled]\\n'\n",
    "    \n",
    "    name='' if v.name is None else v.name\n",
    "    if verbose and v.data is not None:\n",
    "        if v.name is not None:\n",
    "            name +='; '\n",
    "        name+=str(v.shape)+' '+str(v.dtype)\n",
    "    return dot_var.format(id(v),name)\n",
    "# DeZero関数をDOT言語に変換する関数\n",
    "def _dot_func(f):\n",
    "    dot_func='{} [label=\"{}\",color=lightblue, style=filledm shape=boc]\\n'\n",
    "    txt=dot_func.format(id(f),f.__class__.__name__)\n",
    "\n",
    "    dot_edge='{} -> {}\\n'\n",
    "    for x in f.inputs:\n",
    "        txt+= dot_edge.format(id(x),id(f))\n",
    "    for y in f.outputs:\n",
    "        txt+= dot_edge.format(id(f),id(y())) # yはweakref\n",
    "    return txt\n",
    "\n",
    "# 計算グラフからDOT言語の文字列を作成する関数\n",
    "# 逆伝播と似たようなロジック\n",
    "def get_dot_graph(output, verbose=True):\n",
    "    txt = ''\n",
    "    funcs = []\n",
    "    seen_set = set()\n",
    "\n",
    "    def add_func(f):\n",
    "        if f not in seen_set:\n",
    "            funcs.append(f)\n",
    "            # funcs.sort(key=lambda x: x.generation)\n",
    "            seen_set.add(f)\n",
    "\n",
    "    add_func(output.creator)\n",
    "    txt += _dot_var(output, verbose)\n",
    "\n",
    "    while funcs:\n",
    "        func = funcs.pop()\n",
    "        txt += _dot_func(func)\n",
    "        for x in func.inputs:\n",
    "            txt += _dot_var(x, verbose)\n",
    "\n",
    "            if x.creator is not None:\n",
    "                add_func(x.creator)\n",
    "\n",
    "    return 'digraph g {\\n' + txt + '}'\n",
    "\n",
    "# Dot言語を画像化する\n",
    "def plot_dot_graph(output, verbose=True, to_file='graph.png'):\n",
    "    # 計算グラフからDOT言語取得\n",
    "    dot_graph=get_dot_graph(output,verbose)\n",
    "    # 1.DOTデータをファイルに保存する\n",
    "    tmp_dir=os.path.join(os.path.expanduser('../images'),'.dezero')\n",
    "    if not os.path.exists(tmp_dir):\n",
    "        os.mkdir(tmp_dir)\n",
    "    graph_path=os.path.join(tmp_dir,'tmp_graph.dot')\n",
    "\n",
    "    with open(graph_path,'w') as f :\n",
    "        f.write(dot_graph)\n",
    "    \n",
    "    # 2 DOTコマンドを呼ぶ\n",
    "    extention=os.path.splitext(to_file)[1][1:] # 拡張子（png,pdfなど)\n",
    "    # コマンド実行\n",
    "    cmd='dot {} -T {} -o {}'.format(graph_path,extention,to_file) \n",
    "    subprocess.run(cmd,shell=True)\n",
    "\n",
    "\n",
    "def goldstein(x, y):\n",
    "    z = (1 + (x + y + 1)**2 * (19 - 14*x + 3*x**2 - 14*y + 6*x*y + 3*y**2)) * \\\n",
    "        (30 + (2*x - 3*y)**2 * (18 - 32*x + 12*x**2 + 48*y - 36*x*y + 27*y**2))\n",
    "    return z\n",
    "\n",
    "x = Variable(np.array(1.0))\n",
    "y = Variable(np.array(1.0))\n",
    "z = goldstein(x, y)\n",
    "z.backward()\n",
    "\n",
    "x.name = 'x'\n",
    "y.name = 'y'\n",
    "z.name = 'z'\n",
    "plot_dot_graph(z, verbose=False, to_file='goldstein.png')"
   ],
   "outputs": [],
   "metadata": {}
  }
 ],
 "metadata": {
  "orig_nbformat": 4,
  "language_info": {
   "name": "python",
   "version": "3.7.2",
   "mimetype": "text/x-python",
   "codemirror_mode": {
    "name": "ipython",
    "version": 3
   },
   "pygments_lexer": "ipython3",
   "nbconvert_exporter": "python",
   "file_extension": ".py"
  },
  "kernelspec": {
   "name": "python3",
   "display_name": "Python 3.7.2 64-bit"
  },
  "interpreter": {
   "hash": "aee8b7b246df8f9039afb4144a1f6fd8d2ca17a180786b69acc140d282b71a49"
  }
 },
 "nbformat": 4,
 "nbformat_minor": 2
}